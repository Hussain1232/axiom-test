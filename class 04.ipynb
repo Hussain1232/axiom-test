{
 "cells": [
  {
   "cell_type": "code",
   "execution_count": 7,
   "metadata": {},
   "outputs": [],
   "source": [
    "x = [1, 2, 3, 4, 5, 6, 7, 8]"
   ]
  },
  {
   "cell_type": "code",
   "execution_count": 8,
   "metadata": {},
   "outputs": [
    {
     "name": "stdout",
     "output_type": "stream",
     "text": [
      "7\n"
     ]
    },
    {
     "data": {
      "text/plain": [
       "[1, 2, 3, 4, 5, 6, 8]"
      ]
     },
     "execution_count": 8,
     "metadata": {},
     "output_type": "execute_result"
    }
   ],
   "source": [
    "z = x.pop(6)\n",
    "print(z)\n",
    "x"
   ]
  },
  {
   "cell_type": "code",
   "execution_count": 25,
   "metadata": {},
   "outputs": [
    {
     "data": {
      "text/plain": [
       "[3, 4, 5, 6, 78, 87, 98]"
      ]
     },
     "execution_count": 25,
     "metadata": {},
     "output_type": "execute_result"
    }
   ],
   "source": [
    "list= [3,4,5,6,78,87,98,89]\n",
    "poppedvalue = list.pop()\n",
    "poppedvalue\n",
    "list"
   ]
  },
  {
   "cell_type": "code",
   "execution_count": 36,
   "metadata": {},
   "outputs": [
    {
     "name": "stdout",
     "output_type": "stream",
     "text": [
      "89\n"
     ]
    },
    {
     "data": {
      "text/plain": [
       "[3, 4, 5, 6, 78, 87, 98]"
      ]
     },
     "execution_count": 36,
     "metadata": {},
     "output_type": "execute_result"
    }
   ],
   "source": [
    "list= [3,4,5,6,78,87,98,89]\n",
    "poppedvalue = list.pop()\n",
    "print(poppedvalue)\n",
    "list"
   ]
  },
  {
   "cell_type": "code",
   "execution_count": 28,
   "metadata": {},
   "outputs": [
    {
     "data": {
      "text/plain": [
       "87"
      ]
     },
     "execution_count": 28,
     "metadata": {},
     "output_type": "execute_result"
    }
   ],
   "source": [
    "poppedvalue = list.pop()\n",
    "poppedvalue"
   ]
  },
  {
   "cell_type": "code",
   "execution_count": 29,
   "metadata": {},
   "outputs": [
    {
     "data": {
      "text/plain": [
       "[5, 6, 78]"
      ]
     },
     "execution_count": 29,
     "metadata": {},
     "output_type": "execute_result"
    }
   ],
   "source": [
    "slicedlist = list[2:5]\n",
    "slicedlist"
   ]
  },
  {
   "cell_type": "code",
   "execution_count": 20,
   "metadata": {},
   "outputs": [
    {
     "data": {
      "text/plain": [
       "[3, 4, 5, 6, 78, 87, 98]"
      ]
     },
     "execution_count": 20,
     "metadata": {},
     "output_type": "execute_result"
    }
   ],
   "source": [
    "list"
   ]
  },
  {
   "cell_type": "code",
   "execution_count": 41,
   "metadata": {},
   "outputs": [
    {
     "data": {
      "text/plain": [
       "['outing time', 'friends', 'family time']"
      ]
     },
     "execution_count": 41,
     "metadata": {},
     "output_type": "execute_result"
    }
   ],
   "source": [
    "todo = [\"play time\",\"outing time\",\"friends\",\"family time\"]\n",
    "poppedvalue = todo.pop(0)\n",
    "todo"
   ]
  },
  {
   "cell_type": "code",
   "execution_count": 85,
   "metadata": {},
   "outputs": [],
   "source": [
    "todo = [\"play time\",\"outing time\",\"friends\",\"family time\"]\n",
    "#empty list\n",
    "tasksdone=[]"
   ]
  },
  {
   "cell_type": "code",
   "execution_count": 87,
   "metadata": {},
   "outputs": [
    {
     "name": "stdout",
     "output_type": "stream",
     "text": [
      "have you done the tasky\n",
      "['play time', 'outing time', 'friends']\n",
      "['family time']\n"
     ]
    }
   ],
   "source": [
    "#list of all tasks\n",
    "todo = [\"play time\",\"outing time\",\"friends\",\"family time\"]\n",
    "#empty list\n",
    "tasksdone=[]\n",
    "#input ka task hogya\n",
    "status = input(\"have you done the task\")\n",
    "if status==\"y\":\n",
    "    hogayakam = todo.pop()\n",
    "    tasksdone.append(hogayakam)\n",
    "    \n",
    "print(todo)\n",
    "print(tasksdone)\n",
    "#remove the task from list of all tasks\n",
    "#add the remove task into the empty list"
   ]
  },
  {
   "cell_type": "code",
   "execution_count": 47,
   "metadata": {
    "scrolled": true
   },
   "outputs": [
    {
     "name": "stdout",
     "output_type": "stream",
     "text": [
      "['play time', 'outing time', 'friends']\n"
     ]
    }
   ],
   "source": [
    "print(todo)"
   ]
  },
  {
   "cell_type": "code",
   "execution_count": 48,
   "metadata": {},
   "outputs": [
    {
     "name": "stdout",
     "output_type": "stream",
     "text": [
      "['family time']\n"
     ]
    }
   ],
   "source": [
    "print(tasksdone)"
   ]
  },
  {
   "cell_type": "code",
   "execution_count": 91,
   "metadata": {},
   "outputs": [
    {
     "name": "stdout",
     "output_type": "stream",
     "text": [
      "there are no tasks in tasks list\n",
      "[]\n",
      "['family time', 'friends', 'outing time', 'play time']\n"
     ]
    }
   ],
   "source": [
    "\n",
    "#input ka task hogya\n",
    "if len(todo)!=0:\n",
    "    status = input(\"have you done the task\")\n",
    "    if status==\"y\":\n",
    "       hogayakam = todo.pop()\n",
    "       tasksdone.append(hogayakam)\n",
    "else: \n",
    "    print(\"there are no tasks in tasks list\")    \n",
    "    \n",
    "print(todo)\n",
    "print(tasksdone)"
   ]
  },
  {
   "cell_type": "markdown",
   "metadata": {},
   "source": [
    "# for loops"
   ]
  },
  {
   "cell_type": "code",
   "execution_count": 95,
   "metadata": {},
   "outputs": [
    {
     "name": "stdout",
     "output_type": "stream",
     "text": [
      "0 Hussain Mansoori\n",
      "1 Hussain Mansoori\n",
      "2 Hussain Mansoori\n",
      "3 Hussain Mansoori\n",
      "4 Hussain Mansoori\n",
      "5 Hussain Mansoori\n",
      "6 Hussain Mansoori\n",
      "7 Hussain Mansoori\n",
      "8 Hussain Mansoori\n",
      "9 Hussain Mansoori\n"
     ]
    }
   ],
   "source": [
    "for num in range(10):\n",
    "    print(num, \"Hussain Mansoori\")\n"
   ]
  },
  {
   "cell_type": "code",
   "execution_count": 96,
   "metadata": {},
   "outputs": [
    {
     "name": "stdout",
     "output_type": "stream",
     "text": [
      "1\n",
      "2\n",
      "3\n",
      "4\n",
      "5\n",
      "6\n",
      "7\n",
      "8\n",
      "9\n"
     ]
    }
   ],
   "source": [
    "\n",
    "for a in range(1,10):\n",
    "    print(a)"
   ]
  },
  {
   "cell_type": "code",
   "execution_count": 98,
   "metadata": {},
   "outputs": [
    {
     "name": "stdout",
     "output_type": "stream",
     "text": [
      "pasta\n",
      "briyani\n",
      "BBQ\n"
     ]
    }
   ],
   "source": [
    "foods = [\"pasta\",\"briyani\",\"BBQ\"]\n",
    "for food in foods:\n",
    "    print(food)"
   ]
  },
  {
   "cell_type": "code",
   "execution_count": 99,
   "metadata": {},
   "outputs": [
    {
     "name": "stdout",
     "output_type": "stream",
     "text": [
      "pasta\n",
      "briyani\n",
      "BBQ\n"
     ]
    }
   ],
   "source": [
    "\n",
    "for food in [\"pasta\",\"briyani\",\"BBQ\"]:\n",
    "    print(food)"
   ]
  },
  {
   "cell_type": "code",
   "execution_count": 106,
   "metadata": {},
   "outputs": [
    {
     "name": "stdout",
     "output_type": "stream",
     "text": [
      "i love to buy Levis,\n",
      "i love to buy Out Fitters,\n",
      "i love to buy Polo,\n",
      "i love to buy Puma,\n"
     ]
    }
   ],
   "source": [
    "brands = [\"levis\",\"out fitters\",\"polo\",\"puma\"]\n",
    "for brand in brands:\n",
    "    print(\"i love to buy \" + brand.title()+\",\")"
   ]
  },
  {
   "cell_type": "code",
   "execution_count": 109,
   "metadata": {},
   "outputs": [
    {
     "name": "stdout",
     "output_type": "stream",
     "text": [
      "bhaiya pasta\n",
      "bhaiya briyani\n",
      "bhaiya BBQ\n"
     ]
    }
   ],
   "source": [
    "bhaiya = [\"pasta\",\"briyani\",\"BBQ\"]\n",
    "for bhaiya in bhaiya:\n",
    "    print(\"bhaiya\" ,bhaiya)"
   ]
  },
  {
   "cell_type": "code",
   "execution_count": 111,
   "metadata": {},
   "outputs": [
    {
     "name": "stdout",
     "output_type": "stream",
     "text": [
      "1\n",
      "3\n",
      "5\n",
      "7\n",
      "9\n"
     ]
    }
   ],
   "source": [
    "for i in range(1,10,2):\n",
    "    print(i)"
   ]
  },
  {
   "cell_type": "code",
   "execution_count": 113,
   "metadata": {},
   "outputs": [
    {
     "name": "stdout",
     "output_type": "stream",
     "text": [
      "1\n",
      "3\n",
      "5\n",
      "7\n",
      "9\n"
     ]
    }
   ],
   "source": [
    "for i in range(1,10,2):\n",
    "    print(i)"
   ]
  },
  {
   "cell_type": "code",
   "execution_count": 115,
   "metadata": {},
   "outputs": [
    {
     "name": "stdout",
     "output_type": "stream",
     "text": [
      "h\n",
      "u\n",
      "s\n",
      "s\n",
      "a\n",
      "i\n",
      "n\n"
     ]
    }
   ],
   "source": [
    "for i in \"h\",\"u\",\"s\",\"s\",\"a\",\"i\",\"n\":\n",
    "    print(i)"
   ]
  },
  {
   "cell_type": "code",
   "execution_count": 119,
   "metadata": {},
   "outputs": [
    {
     "name": "stdout",
     "output_type": "stream",
     "text": [
      "[1]\n",
      "[1, 4]\n",
      "[1, 4, 9]\n",
      "[1, 4, 9, 16]\n",
      "[1, 4, 9, 16, 25]\n",
      "[1, 4, 9, 16, 25, 36]\n",
      "[1, 4, 9, 16, 25, 36, 49]\n",
      "[1, 4, 9, 16, 25, 36, 49, 64]\n",
      "[1, 4, 9, 16, 25, 36, 49, 64, 81]\n",
      "[1, 4, 9, 16, 25, 36, 49, 64, 81, 100]\n"
     ]
    }
   ],
   "source": [
    "squares = []\n",
    "for value in range(1,11):\n",
    "    square = value**2\n",
    "    squares.append(square)\n",
    "    print(squares)"
   ]
  },
  {
   "cell_type": "code",
   "execution_count": 123,
   "metadata": {},
   "outputs": [
    {
     "name": "stdout",
     "output_type": "stream",
     "text": [
      "[1, 4, 9, 16, 25, 36, 49, 64, 81, 100]\n",
      "385\n",
      "100\n",
      "1\n"
     ]
    }
   ],
   "source": [
    "squares = []\n",
    "for value in range(1,11):\n",
    "    square = value**2\n",
    "    squares.append(square)\n",
    "print(squares)\n",
    "print(sum(squares))\n",
    "print(max(squares))\n",
    "print(min(squares))"
   ]
  },
  {
   "cell_type": "code",
   "execution_count": 126,
   "metadata": {},
   "outputs": [
    {
     "name": "stdout",
     "output_type": "stream",
     "text": [
      "P\n",
      "a\n",
      "k\n",
      "i\n",
      "s\n",
      "t\n",
      "a\n",
      "n\n"
     ]
    }
   ],
   "source": [
    "for a in \"Pakistan\":\n",
    "    print(a)"
   ]
  },
  {
   "cell_type": "code",
   "execution_count": 127,
   "metadata": {},
   "outputs": [
    {
     "name": "stdout",
     "output_type": "stream",
     "text": [
      "Pakistan\n",
      "karachi\n"
     ]
    }
   ],
   "source": [
    "for a in \"Pakistan\",\"karachi\":\n",
    "    print(a)"
   ]
  },
  {
   "cell_type": "code",
   "execution_count": 128,
   "metadata": {},
   "outputs": [
    {
     "name": "stdout",
     "output_type": "stream",
     "text": [
      "P/a/k/i/s/t/a/n/"
     ]
    }
   ],
   "source": [
    "for a in \"Pakistan\":\n",
    "    print(a, end=\"/\")"
   ]
  },
  {
   "cell_type": "markdown",
   "metadata": {},
   "source": [
    "# list comprehension"
   ]
  },
  {
   "cell_type": "code",
   "execution_count": 129,
   "metadata": {},
   "outputs": [
    {
     "data": {
      "text/plain": [
       "[1, 4, 9, 16, 25, 36, 49, 64, 81, 100]"
      ]
     },
     "execution_count": 129,
     "metadata": {},
     "output_type": "execute_result"
    }
   ],
   "source": [
    "[x**2 for x in range(1,11)]"
   ]
  },
  {
   "cell_type": "code",
   "execution_count": 130,
   "metadata": {},
   "outputs": [
    {
     "data": {
      "text/plain": [
       "[4, 16, 36, 64, 100]"
      ]
     },
     "execution_count": 130,
     "metadata": {},
     "output_type": "execute_result"
    }
   ],
   "source": [
    "[x**2 for x in range(1,11) if x%2==0]"
   ]
  },
  {
   "cell_type": "code",
   "execution_count": 136,
   "metadata": {},
   "outputs": [
    {
     "name": "stdout",
     "output_type": "stream",
     "text": [
      "enter a number9\n",
      "does not\n"
     ]
    }
   ],
   "source": [
    "list = [1,2,3,4,5,6,7,8]\n",
    "num = input(\"enter a number\")\n",
    "if num==\"list\":\n",
    "    print(\"num axists\")\n",
    "else:\n",
    "    print(\"does not\")"
   ]
  },
  {
   "cell_type": "code",
   "execution_count": 137,
   "metadata": {},
   "outputs": [
    {
     "name": "stdout",
     "output_type": "stream",
     "text": [
      "2\n"
     ]
    },
    {
     "data": {
      "text/plain": [
       "[4]"
      ]
     },
     "execution_count": 137,
     "metadata": {},
     "output_type": "execute_result"
    }
   ],
   "source": [
    "list = [1,2,3,4,5]\n",
    "num =int(input())\n",
    "list = [1,2,3,4,5]\n",
    "[list**2 for list in list if num == list]"
   ]
  },
  {
   "cell_type": "markdown",
   "metadata": {},
   "source": [
    "# break"
   ]
  },
  {
   "cell_type": "code",
   "execution_count": 9,
   "metadata": {},
   "outputs": [
    {
     "name": "stdout",
     "output_type": "stream",
     "text": [
      "1\n",
      "5\n",
      "6\n"
     ]
    }
   ],
   "source": [
    "break_list = [1,5,6,9,10]\n",
    "for i in break_list:\n",
    "    print(i)\n",
    "    if i == 6:\n",
    "        break"
   ]
  },
  {
   "cell_type": "code",
   "execution_count": 11,
   "metadata": {},
   "outputs": [
    {
     "data": {
      "text/plain": [
       "True"
      ]
     },
     "execution_count": 11,
     "metadata": {},
     "output_type": "execute_result"
    }
   ],
   "source": [
    "# agr apko pta krna h k apki value list m hai ya nh\n",
    "6 in break_list"
   ]
  },
  {
   "cell_type": "code",
   "execution_count": 28,
   "metadata": {},
   "outputs": [
    {
     "name": "stdout",
     "output_type": "stream",
     "text": [
      "1\n",
      "5\n",
      "6\n",
      "9\n",
      "10\n"
     ]
    }
   ],
   "source": [
    "break_list = [1,5,4,6,9,10]\n",
    "for i in break_list:\n",
    "    if i == 4:\n",
    "        continue\n",
    "    print(i)   "
   ]
  },
  {
   "cell_type": "code",
   "execution_count": 27,
   "metadata": {},
   "outputs": [
    {
     "name": "stdout",
     "output_type": "stream",
     "text": [
      "1\n",
      "5\n",
      "6\n",
      "9\n",
      "10\n"
     ]
    }
   ],
   "source": [
    "break_list = [1,5,4,6,9,10]\n",
    "for i in break_list:\n",
    "    if i == 4:\n",
    "        continue\n",
    "    print(i)   "
   ]
  },
  {
   "cell_type": "code",
   "execution_count": 40,
   "metadata": {},
   "outputs": [
    {
     "name": "stdout",
     "output_type": "stream",
     "text": [
      "a\n",
      "b\n",
      "d\n",
      "e\n",
      "f\n"
     ]
    }
   ],
   "source": [
    "list = [\"a\",\"b\",\"c\",\"d\",\"e\",\"f\"]\n",
    "for i in list:\n",
    "    if i == (\"c\"):\n",
    "        continue\n",
    "    print(i)  "
   ]
  },
  {
   "cell_type": "markdown",
   "metadata": {},
   "source": [
    "# nested loop"
   ]
  },
  {
   "cell_type": "code",
   "execution_count": 41,
   "metadata": {},
   "outputs": [],
   "source": [
    "first_names = [\"hussain\",\"noman\",\"salman\",\"usama\",\"shahrukh\",\"waqas\"]\n",
    "last_names = [\"mansoori\",\"mna\",\"mansoori\",\"syed\",\"rehman\",\"mallick\"]"
   ]
  },
  {
   "cell_type": "code",
   "execution_count": 42,
   "metadata": {},
   "outputs": [],
   "source": [
    "full_names = []"
   ]
  },
  {
   "cell_type": "code",
   "execution_count": 43,
   "metadata": {},
   "outputs": [
    {
     "data": {
      "text/plain": [
       "['hussain mansoori',\n",
       " 'hussain mna',\n",
       " 'hussain mansoori',\n",
       " 'hussain syed',\n",
       " 'hussain rehman',\n",
       " 'hussain mallick',\n",
       " 'noman mansoori',\n",
       " 'noman mna',\n",
       " 'noman mansoori',\n",
       " 'noman syed',\n",
       " 'noman rehman',\n",
       " 'noman mallick',\n",
       " 'salman mansoori',\n",
       " 'salman mna',\n",
       " 'salman mansoori',\n",
       " 'salman syed',\n",
       " 'salman rehman',\n",
       " 'salman mallick',\n",
       " 'usama mansoori',\n",
       " 'usama mna',\n",
       " 'usama mansoori',\n",
       " 'usama syed',\n",
       " 'usama rehman',\n",
       " 'usama mallick',\n",
       " 'shahrukh mansoori',\n",
       " 'shahrukh mna',\n",
       " 'shahrukh mansoori',\n",
       " 'shahrukh syed',\n",
       " 'shahrukh rehman',\n",
       " 'shahrukh mallick',\n",
       " 'waqas mansoori',\n",
       " 'waqas mna',\n",
       " 'waqas mansoori',\n",
       " 'waqas syed',\n",
       " 'waqas rehman',\n",
       " 'waqas mallick']"
      ]
     },
     "execution_count": 43,
     "metadata": {},
     "output_type": "execute_result"
    }
   ],
   "source": [
    "for f in first_names:\n",
    "    for l in last_names:\n",
    "        full_names.append(f +\" \"+l)\n",
    "full_names"
   ]
  },
  {
   "cell_type": "code",
   "execution_count": 8,
   "metadata": {},
   "outputs": [
    {
     "name": "stdout",
     "output_type": "stream",
     "text": [
      "2 *1=2\n",
      "2 *2=4\n",
      "2 *3=6\n",
      "2 *4=8\n",
      "2 *5=10\n",
      "2 *6=12\n",
      "2 *7=14\n",
      "2 *8=16\n",
      "2 *9=18\n",
      "2 *10=20\n"
     ]
    }
   ],
   "source": [
    "for i in range(1,11):\n",
    "    print(\"2 *\"+ str(i)+ \"=\"+ str(i*2))"
   ]
  },
  {
   "cell_type": "code",
   "execution_count": 12,
   "metadata": {},
   "outputs": [
    {
     "name": "stdout",
     "output_type": "stream",
     "text": [
      "2 * 1 = 2\n",
      "2 * 2 = 4\n",
      "2 * 3 = 6\n",
      "2 * 4 = 8\n",
      "2 * 5 = 10\n",
      "2 * 6 = 12\n",
      "2 * 7 = 14\n",
      "2 * 8 = 16\n",
      "2 * 9 = 18\n",
      "2 * 10 = 20\n",
      "3 * 1 = 3\n",
      "3 * 2 = 6\n",
      "3 * 3 = 9\n",
      "3 * 4 = 12\n",
      "3 * 5 = 15\n",
      "3 * 6 = 18\n",
      "3 * 7 = 21\n",
      "3 * 8 = 24\n",
      "3 * 9 = 27\n",
      "3 * 10 = 30\n",
      "4 * 1 = 4\n",
      "4 * 2 = 8\n",
      "4 * 3 = 12\n",
      "4 * 4 = 16\n",
      "4 * 5 = 20\n",
      "4 * 6 = 24\n",
      "4 * 7 = 28\n",
      "4 * 8 = 32\n",
      "4 * 9 = 36\n",
      "4 * 10 = 40\n",
      "5 * 1 = 5\n",
      "5 * 2 = 10\n",
      "5 * 3 = 15\n",
      "5 * 4 = 20\n",
      "5 * 5 = 25\n",
      "5 * 6 = 30\n",
      "5 * 7 = 35\n",
      "5 * 8 = 40\n",
      "5 * 9 = 45\n",
      "5 * 10 = 50\n",
      "6 * 1 = 6\n",
      "6 * 2 = 12\n",
      "6 * 3 = 18\n",
      "6 * 4 = 24\n",
      "6 * 5 = 30\n",
      "6 * 6 = 36\n",
      "6 * 7 = 42\n",
      "6 * 8 = 48\n",
      "6 * 9 = 54\n",
      "6 * 10 = 60\n",
      "7 * 1 = 7\n",
      "7 * 2 = 14\n",
      "7 * 3 = 21\n",
      "7 * 4 = 28\n",
      "7 * 5 = 35\n",
      "7 * 6 = 42\n",
      "7 * 7 = 49\n",
      "7 * 8 = 56\n",
      "7 * 9 = 63\n",
      "7 * 10 = 70\n",
      "8 * 1 = 8\n",
      "8 * 2 = 16\n",
      "8 * 3 = 24\n",
      "8 * 4 = 32\n",
      "8 * 5 = 40\n",
      "8 * 6 = 48\n",
      "8 * 7 = 56\n",
      "8 * 8 = 64\n",
      "8 * 9 = 72\n",
      "8 * 10 = 80\n",
      "9 * 1 = 9\n",
      "9 * 2 = 18\n",
      "9 * 3 = 27\n",
      "9 * 4 = 36\n",
      "9 * 5 = 45\n",
      "9 * 6 = 54\n",
      "9 * 7 = 63\n",
      "9 * 8 = 72\n",
      "9 * 9 = 81\n",
      "9 * 10 = 90\n",
      "10 * 1 = 10\n",
      "10 * 2 = 20\n",
      "10 * 3 = 30\n",
      "10 * 4 = 40\n",
      "10 * 5 = 50\n",
      "10 * 6 = 60\n",
      "10 * 7 = 70\n",
      "10 * 8 = 80\n",
      "10 * 9 = 90\n",
      "10 * 10 = 100\n"
     ]
    }
   ],
   "source": [
    "for i in range(2,11):\n",
    "    for j in range(1,11):\n",
    "        print(str(i)+\" * \"+str(j+\" = \"+str(i*j))"
   ]
  },
  {
   "cell_type": "code",
   "execution_count": 5,
   "metadata": {},
   "outputs": [
    {
     "name": "stdout",
     "output_type": "stream",
     "text": [
      "2 * 1 = 2\n",
      "2 * 2 = 4\n",
      "2 * 3 = 6\n",
      "2 * 4 = 8\n",
      "2 * 5 = 10\n",
      "2 * 6 = 12\n",
      "2 * 7 = 14\n",
      "2 * 8 = 16\n",
      "2 * 9 = 18\n",
      "2 * 10 = 20\n",
      "3 * 1 = 3\n",
      "3 * 2 = 6\n",
      "3 * 3 = 9\n",
      "3 * 4 = 12\n",
      "3 * 5 = 15\n",
      "3 * 6 = 18\n",
      "3 * 7 = 21\n",
      "3 * 8 = 24\n",
      "3 * 9 = 27\n",
      "3 * 10 = 30\n",
      "4 * 1 = 4\n",
      "4 * 2 = 8\n",
      "4 * 3 = 12\n",
      "4 * 4 = 16\n",
      "4 * 5 = 20\n",
      "4 * 6 = 24\n",
      "4 * 7 = 28\n",
      "4 * 8 = 32\n",
      "4 * 9 = 36\n",
      "4 * 10 = 40\n",
      "5 * 1 = 5\n",
      "5 * 2 = 10\n",
      "5 * 3 = 15\n",
      "5 * 4 = 20\n",
      "5 * 5 = 25\n",
      "5 * 6 = 30\n",
      "5 * 7 = 35\n",
      "5 * 8 = 40\n",
      "5 * 9 = 45\n",
      "5 * 10 = 50\n"
     ]
    }
   ],
   "source": [
    "for table in range(2,6):\n",
    "    for counting in range(1,11):\n",
    "        print(table,\"*\",counting,\"=\",counting*table)"
   ]
  },
  {
   "cell_type": "code",
   "execution_count": 17,
   "metadata": {},
   "outputs": [
    {
     "name": "stdout",
     "output_type": "stream",
     "text": [
      "enter start of table2\n",
      "enter end of table3\n",
      "2 * 1 = 2\n",
      "2 * 2 = 4\n",
      "2 * 3 = 6\n",
      "2 * 4 = 8\n",
      "2 * 5 = 10\n",
      "2 * 6 = 12\n",
      "2 * 7 = 14\n",
      "2 * 8 = 16\n",
      "2 * 9 = 18\n",
      "2 * 10 = 20\n",
      "=========\n",
      "3 * 1 = 3\n",
      "3 * 2 = 6\n",
      "3 * 3 = 9\n",
      "3 * 4 = 12\n",
      "3 * 5 = 15\n",
      "3 * 6 = 18\n",
      "3 * 7 = 21\n",
      "3 * 8 = 24\n",
      "3 * 9 = 27\n",
      "3 * 10 = 30\n",
      "=========\n"
     ]
    }
   ],
   "source": [
    " start = int(input(\"enter start of table\"))\n",
    "end = int(input(\"enter end of table\"))\n",
    "\n",
    "for table in range(start,end+1):\n",
    "    for counting in range(1,11):\n",
    "        print(table,\"*\",counting,\"=\",counting*table)\n",
    "        \n",
    "    print(\"=========\")   "
   ]
  },
  {
   "cell_type": "markdown",
   "metadata": {},
   "source": [
    "# dictionaries"
   ]
  },
  {
   "cell_type": "code",
   "execution_count": 18,
   "metadata": {},
   "outputs": [],
   "source": [
    "#dct = {key:value,key:value,key:value,key:value,key:value,key:value}"
   ]
  },
  {
   "cell_type": "code",
   "execution_count": 23,
   "metadata": {},
   "outputs": [],
   "source": [
    "dct = {}"
   ]
  },
  {
   "cell_type": "code",
   "execution_count": 24,
   "metadata": {},
   "outputs": [
    {
     "data": {
      "text/plain": [
       "dict"
      ]
     },
     "execution_count": 24,
     "metadata": {},
     "output_type": "execute_result"
    }
   ],
   "source": [
    "type(dct)"
   ]
  },
  {
   "cell_type": "code",
   "execution_count": 45,
   "metadata": {},
   "outputs": [
    {
     "data": {
      "text/plain": [
       "100"
      ]
     },
     "execution_count": 45,
     "metadata": {},
     "output_type": "execute_result"
    }
   ],
   "source": [
    "dct = {1:100,2:200,3:300,4:400}\n",
    "dct1 = {\"a\",\"apple\",'b'\"ara apple\"}\n",
    "dct2 = {1:\"a\",2:\"b\",3:\"c\"}\n",
    "dct3 = {\"apple\":100,\"orange\":200}\n",
    "dct4 = {\"name\":[\"asad\",\"saad\",\"alfa\"],1:99999}\n",
    "dct5 = {\"a1\":[dct,dct1,dct2,dct3,dct4]}\n",
    "\n",
    "\n",
    "dct[1]"
   ]
  },
  {
   "cell_type": "code",
   "execution_count": 60,
   "metadata": {},
   "outputs": [
    {
     "data": {
      "text/plain": [
       "['asad', 'saad', 'alfa']"
      ]
     },
     "execution_count": 60,
     "metadata": {},
     "output_type": "execute_result"
    }
   ],
   "source": [
    "dct = {1:100,2:200,3:300,4:400}\n",
    "dct1 = {\"a\":\"apple\",'b':\"bara apple\"}\n",
    "dct2 = {1:\"a\",2:\"b\",3:\"c\"}\n",
    "dct3 = {\"apple\":100,\"orange\":200}\n",
    "dct4 = {\"name\":[\"asad\",\"saad\",\"alfa\"],1:99999}\n",
    "dct5 = {\"a1\":[dct,dct1,dct2,dct3,dct4]}\n",
    "\n",
    "\n",
    "dct[1]\n",
    "dct1[\"b\"]\n",
    "dct4[\"name\"]"
   ]
  },
  {
   "cell_type": "code",
   "execution_count": 61,
   "metadata": {},
   "outputs": [
    {
     "data": {
      "text/plain": [
       "{2: 'b', 3: 'c'}"
      ]
     },
     "execution_count": 61,
     "metadata": {},
     "output_type": "execute_result"
    }
   ],
   "source": [
    "del dct2[1]\n",
    "dct2"
   ]
  },
  {
   "cell_type": "code",
   "execution_count": 62,
   "metadata": {},
   "outputs": [
    {
     "data": {
      "text/plain": [
       "{'a1': [{1: 100, 2: 200, 3: 300, 4: 400},\n",
       "  {'a': 'apple', 'b': 'bara apple'},\n",
       "  {2: 'b', 3: 'c'},\n",
       "  {'apple': 100, 'orange': 200},\n",
       "  {'name': ['asad', 'saad', 'alfa'], 1: 99999}],\n",
       " 3: 1232}"
      ]
     },
     "execution_count": 62,
     "metadata": {},
     "output_type": "execute_result"
    }
   ],
   "source": [
    "dct5[3]=1232 #addition\n",
    "dct5"
   ]
  },
  {
   "cell_type": "code",
   "execution_count": 64,
   "metadata": {},
   "outputs": [
    {
     "data": {
      "text/plain": [
       "'saad'"
      ]
     },
     "execution_count": 64,
     "metadata": {},
     "output_type": "execute_result"
    }
   ],
   "source": [
    "dct4[\"name\"][1]"
   ]
  },
  {
   "cell_type": "code",
   "execution_count": 75,
   "metadata": {},
   "outputs": [
    {
     "data": {
      "text/plain": [
       "'4'"
      ]
     },
     "execution_count": 75,
     "metadata": {},
     "output_type": "execute_result"
    }
   ],
   "source": [
    "dct7 = {1:{11:\"a\",22:\"b\",33:\"d\",44:\"g\",55:\"y4z\"},2:\"1234567\"}\n",
    "dct7[1][55][1]"
   ]
  },
  {
   "cell_type": "code",
   "execution_count": 85,
   "metadata": {},
   "outputs": [],
   "source": [
    "dct8 = {1:\"a\",2:\"b\",3:\"c\",4:\"d\"}"
   ]
  },
  {
   "cell_type": "code",
   "execution_count": 86,
   "metadata": {},
   "outputs": [
    {
     "name": "stdout",
     "output_type": "stream",
     "text": [
      "1 a\n",
      "2 b\n",
      "3 c\n",
      "4 d\n"
     ]
    }
   ],
   "source": [
    "for key,value in dct8.items():\n",
    "    print(key,value)"
   ]
  },
  {
   "cell_type": "code",
   "execution_count": 87,
   "metadata": {},
   "outputs": [
    {
     "name": "stdout",
     "output_type": "stream",
     "text": [
      "1\n",
      "2\n",
      "3\n",
      "4\n"
     ]
    }
   ],
   "source": [
    "for key in dct8.keys():\n",
    "    print(key)"
   ]
  },
  {
   "cell_type": "code",
   "execution_count": 88,
   "metadata": {},
   "outputs": [
    {
     "name": "stdout",
     "output_type": "stream",
     "text": [
      "a\n",
      "b\n",
      "c\n",
      "d\n"
     ]
    }
   ],
   "source": [
    "for value in dct8.values():\n",
    "    print(value)"
   ]
  },
  {
   "cell_type": "code",
   "execution_count": 93,
   "metadata": {},
   "outputs": [
    {
     "name": "stdout",
     "output_type": "stream",
     "text": [
      "a\n",
      "b\n",
      "c\n",
      "d\n"
     ]
    }
   ],
   "source": [
    "for key in dct8.keys():\n",
    "    print(dct8[key])"
   ]
  },
  {
   "cell_type": "code",
   "execution_count": null,
   "metadata": {},
   "outputs": [],
   "source": []
  }
 ],
 "metadata": {
  "kernelspec": {
   "display_name": "Python 3",
   "language": "python",
   "name": "python3"
  },
  "language_info": {
   "codemirror_mode": {
    "name": "ipython",
    "version": 3
   },
   "file_extension": ".py",
   "mimetype": "text/x-python",
   "name": "python",
   "nbconvert_exporter": "python",
   "pygments_lexer": "ipython3",
   "version": "3.7.1"
  }
 },
 "nbformat": 4,
 "nbformat_minor": 2
}
